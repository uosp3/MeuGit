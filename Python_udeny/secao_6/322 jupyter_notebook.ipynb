{
 "cells": [
  {
   "cell_type": "markdown",
   "id": "da36a663",
   "metadata": {},
   "source": [
    "https://www.udemy.com/course/python-3-do-zero-ao-avancado/learn/lecture/36371252#questions"
   ]
  }
 ],
 "metadata": {
  "kernelspec": {
   "display_name": "Python 3 (ipykernel)",
   "language": "python",
   "name": "python3"
  },
  "language_info": {
   "codemirror_mode": {
    "name": "ipython",
    "version": 3
   },
   "file_extension": ".py",
   "mimetype": "text/x-python",
   "name": "python",
   "nbconvert_exporter": "python",
   "pygments_lexer": "ipython3",
   "version": "3.12.3"
  }
 },
 "nbformat": 4,
 "nbformat_minor": 5
}
